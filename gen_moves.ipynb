{
 "cells": [
  {
   "cell_type": "code",
   "execution_count": null,
   "metadata": {},
   "outputs": [],
   "source": [
    "import numpy as np\n",
    "import pandas as pd\n",
    "\n",
    "from pathlib import Path\n",
    "\n",
    "data_root = 'data'\n",
    "\n",
    "fast_moves_df = pd.read_json(f'{data_root}/pogoapi/fast_moves.json')\n",
    "charged_moves_df = pd.read_json(f'{data_root}/pogoapi/charged_moves.json')\n",
    "\n",
    "fast_moves_df.rename(columns={\n",
    "\t'name':'fast_name',\n",
    "\t'type': 'fast_type',\n",
    "\t'power': 'fast_power',\n",
    "\t'energy_delta': 'fast_energy'\n",
    "}, inplace=True)\n",
    "\n",
    "charged_moves_df.rename(columns={\n",
    "\t'name':'charged_name',\n",
    "\t'type': 'charged_type',\n",
    "\t'power': 'charged_power',\n",
    "\t'energy_delta': 'charged_energy'\n",
    "}, inplace=True)\n",
    "\n",
    "fast_moves_df = fast_moves_df[['fast_name', 'fast_type', 'fast_power', 'fast_energy']]\n",
    "charged_moves_df = charged_moves_df[['charged_name', 'charged_type', 'charged_power', 'charged_energy']]\n",
    "\n",
    "merged_moves_df = pd.merge(fast_moves_df, charged_moves_df, how='cross')\n",
    "\n",
    "merged_moves_df['charged_rate'] = np.ceil(merged_moves_df['charged_energy'].abs() / merged_moves_df['fast_energy'])\n",
    "merged_moves_df['charged_rate'] = merged_moves_df['charged_rate'].replace([np.inf, -np.inf], None)\n",
    "\n",
    "merged_moves_df.sort_values(by=['charged_rate'], ascending=True, inplace=True)\n",
    "\n",
    "Path(f'{data_root}/csv').mkdir(parents=True, exist_ok=True)\n",
    "merged_moves_df.to_csv(f'{data_root}/csv/merged_moves.csv',index=False)\n",
    "\n",
    "display(merged_moves_df)\n",
    "print('Merged move generated')"
   ]
  }
 ],
 "metadata": {
  "kernelspec": {
   "display_name": ".venv",
   "language": "python",
   "name": "python3"
  },
  "language_info": {
   "codemirror_mode": {
    "name": "ipython",
    "version": 3
   },
   "file_extension": ".py",
   "mimetype": "text/x-python",
   "name": "python",
   "nbconvert_exporter": "python",
   "pygments_lexer": "ipython3",
   "version": "3.10.12"
  }
 },
 "nbformat": 4,
 "nbformat_minor": 2
}
